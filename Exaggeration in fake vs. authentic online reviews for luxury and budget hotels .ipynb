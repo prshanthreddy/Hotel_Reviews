{
 "cells": [
  {
   "cell_type": "code",
   "execution_count": 1,
   "id": "f1ccec4c",
   "metadata": {
    "scrolled": true
   },
   "outputs": [],
   "source": [
    "import os\n",
    "import fnmatch\n",
    "from textblob import TextBlob\n",
    "import pandas as pd\n",
    "from sklearn.feature_extraction.text import TfidfVectorizer\n",
    "from nltk.corpus import stopwords\n",
    "from nltk import pos_tag,pos_tag_sents\n",
    "import regex as re\n",
    "import operator\n",
    "from sklearn.svm import SVC, LinearSVC\n",
    "from sklearn.metrics import classification_report, accuracy_score, confusion_matrix\n",
    "from sklearn.model_selection import train_test_split \n",
    "from sklearn import metrics\n",
    "from sklearn import svm\n",
    "from sklearn.model_selection import GridSearchCV\n",
    "import pickle"
   ]
  },
  {
   "cell_type": "code",
   "execution_count": 2,
   "id": "49276520",
   "metadata": {},
   "outputs": [],
   "source": [
    "path = './op_spam_train/'\n",
    "\n",
    "label = []\n",
    "\n",
    "configfiles = [os.path.join(subdir,f)\n",
    "for subdir, dirs, files in os.walk(path)\n",
    "    for f in fnmatch.filter(files, '*.txt')]"
   ]
  },
  {
   "cell_type": "code",
   "execution_count": 3,
   "id": "27c960d9",
   "metadata": {
    "scrolled": true
   },
   "outputs": [
    {
     "data": {
      "text/plain": [
       "1600"
      ]
     },
     "execution_count": 3,
     "metadata": {},
     "output_type": "execute_result"
    }
   ],
   "source": [
    "len(configfiles)"
   ]
  },
  {
   "cell_type": "code",
   "execution_count": 4,
   "id": "327c53a5",
   "metadata": {},
   "outputs": [
    {
     "data": {
      "text/plain": [
       "'./op_spam_train/positive_polarity/deceptive_from_MTurk/fold2/d_talbott_8.txt'"
      ]
     },
     "execution_count": 4,
     "metadata": {},
     "output_type": "execute_result"
    }
   ],
   "source": [
    "configfiles[1]"
   ]
  },
  {
   "cell_type": "code",
   "execution_count": 5,
   "id": "5b3ae389",
   "metadata": {
    "scrolled": true
   },
   "outputs": [],
   "source": [
    "for f in configfiles:\n",
    "    c = re.search('(trut|deceptiv)\\w',f)\n",
    "    label.append(c.group())"
   ]
  },
  {
   "cell_type": "code",
   "execution_count": 6,
   "id": "1f40d657",
   "metadata": {},
   "outputs": [],
   "source": [
    "labels = pd.DataFrame(label, columns = ['Labels'])"
   ]
  },
  {
   "cell_type": "code",
   "execution_count": 7,
   "id": "2976bc5c",
   "metadata": {},
   "outputs": [
    {
     "data": {
      "text/html": [
       "<div>\n",
       "<style scoped>\n",
       "    .dataframe tbody tr th:only-of-type {\n",
       "        vertical-align: middle;\n",
       "    }\n",
       "\n",
       "    .dataframe tbody tr th {\n",
       "        vertical-align: top;\n",
       "    }\n",
       "\n",
       "    .dataframe thead th {\n",
       "        text-align: right;\n",
       "    }\n",
       "</style>\n",
       "<table border=\"1\" class=\"dataframe\">\n",
       "  <thead>\n",
       "    <tr style=\"text-align: right;\">\n",
       "      <th></th>\n",
       "      <th>Labels</th>\n",
       "    </tr>\n",
       "  </thead>\n",
       "  <tbody>\n",
       "    <tr>\n",
       "      <th>0</th>\n",
       "      <td>deceptive</td>\n",
       "    </tr>\n",
       "    <tr>\n",
       "      <th>1</th>\n",
       "      <td>deceptive</td>\n",
       "    </tr>\n",
       "    <tr>\n",
       "      <th>2</th>\n",
       "      <td>deceptive</td>\n",
       "    </tr>\n",
       "    <tr>\n",
       "      <th>3</th>\n",
       "      <td>deceptive</td>\n",
       "    </tr>\n",
       "    <tr>\n",
       "      <th>4</th>\n",
       "      <td>deceptive</td>\n",
       "    </tr>\n",
       "  </tbody>\n",
       "</table>\n",
       "</div>"
      ],
      "text/plain": [
       "      Labels\n",
       "0  deceptive\n",
       "1  deceptive\n",
       "2  deceptive\n",
       "3  deceptive\n",
       "4  deceptive"
      ]
     },
     "execution_count": 7,
     "metadata": {},
     "output_type": "execute_result"
    }
   ],
   "source": [
    "labels.head(5)"
   ]
  },
  {
   "cell_type": "code",
   "execution_count": 8,
   "id": "94758644",
   "metadata": {},
   "outputs": [],
   "source": [
    "review = []\n",
    "directory =os.path.join(\"./op_spam_train/\")\n",
    "for subdir,dirs ,files in os.walk(directory):\n",
    "   # print (subdir)\n",
    "    for file in files:\n",
    "        if fnmatch.filter(files, '*.txt'):\n",
    "            f=open(os.path.join(subdir, file),'r')\n",
    "            a = f.read()\n",
    "            review.append(a)"
   ]
  },
  {
   "cell_type": "code",
   "execution_count": 9,
   "id": "dca949c0",
   "metadata": {},
   "outputs": [],
   "source": [
    "reviews = pd.DataFrame(review, columns = ['HotelReviews'])"
   ]
  },
  {
   "cell_type": "code",
   "execution_count": 10,
   "id": "14353fee",
   "metadata": {},
   "outputs": [
    {
     "data": {
      "text/html": [
       "<div>\n",
       "<style scoped>\n",
       "    .dataframe tbody tr th:only-of-type {\n",
       "        vertical-align: middle;\n",
       "    }\n",
       "\n",
       "    .dataframe tbody tr th {\n",
       "        vertical-align: top;\n",
       "    }\n",
       "\n",
       "    .dataframe thead th {\n",
       "        text-align: right;\n",
       "    }\n",
       "</style>\n",
       "<table border=\"1\" class=\"dataframe\">\n",
       "  <thead>\n",
       "    <tr style=\"text-align: right;\">\n",
       "      <th></th>\n",
       "      <th>HotelReviews</th>\n",
       "    </tr>\n",
       "  </thead>\n",
       "  <tbody>\n",
       "    <tr>\n",
       "      <th>0</th>\n",
       "      <td>excellent staff and customer service, very cle...</td>\n",
       "    </tr>\n",
       "    <tr>\n",
       "      <th>1</th>\n",
       "      <td>My stay at this hotel was one of the best I ha...</td>\n",
       "    </tr>\n",
       "    <tr>\n",
       "      <th>2</th>\n",
       "      <td>We just got back from a trip to Chicago for my...</td>\n",
       "    </tr>\n",
       "    <tr>\n",
       "      <th>3</th>\n",
       "      <td>I have to say that the Hard Rock Hotel in Chic...</td>\n",
       "    </tr>\n",
       "    <tr>\n",
       "      <th>4</th>\n",
       "      <td>My husband and I recently stayed at the Hard R...</td>\n",
       "    </tr>\n",
       "  </tbody>\n",
       "</table>\n",
       "</div>"
      ],
      "text/plain": [
       "                                        HotelReviews\n",
       "0  excellent staff and customer service, very cle...\n",
       "1  My stay at this hotel was one of the best I ha...\n",
       "2  We just got back from a trip to Chicago for my...\n",
       "3  I have to say that the Hard Rock Hotel in Chic...\n",
       "4  My husband and I recently stayed at the Hard R..."
      ]
     },
     "execution_count": 10,
     "metadata": {},
     "output_type": "execute_result"
    }
   ],
   "source": [
    "reviews.head(5)"
   ]
  },
  {
   "cell_type": "code",
   "execution_count": 11,
   "id": "9a6c0b34",
   "metadata": {},
   "outputs": [],
   "source": [
    "result = pd.merge(reviews, labels,right_index=True,left_index = True)\n",
    "result['HotelReviews'] = result['HotelReviews'].map(lambda x: x.lower())"
   ]
  },
  {
   "cell_type": "code",
   "execution_count": 12,
   "id": "cf7dcba5",
   "metadata": {},
   "outputs": [],
   "source": [
    "result.to_csv('Exaggeration in fake vs. authentic online reviews for luxury and budget hotels .csv')"
   ]
  },
  {
   "cell_type": "code",
   "execution_count": 13,
   "id": "b3e34f89",
   "metadata": {},
   "outputs": [
    {
     "data": {
      "text/html": [
       "<div>\n",
       "<style scoped>\n",
       "    .dataframe tbody tr th:only-of-type {\n",
       "        vertical-align: middle;\n",
       "    }\n",
       "\n",
       "    .dataframe tbody tr th {\n",
       "        vertical-align: top;\n",
       "    }\n",
       "\n",
       "    .dataframe thead th {\n",
       "        text-align: right;\n",
       "    }\n",
       "</style>\n",
       "<table border=\"1\" class=\"dataframe\">\n",
       "  <thead>\n",
       "    <tr style=\"text-align: right;\">\n",
       "      <th></th>\n",
       "      <th>HotelReviews</th>\n",
       "      <th>Labels</th>\n",
       "    </tr>\n",
       "  </thead>\n",
       "  <tbody>\n",
       "    <tr>\n",
       "      <th>0</th>\n",
       "      <td>excellent staff and customer service, very cle...</td>\n",
       "      <td>deceptive</td>\n",
       "    </tr>\n",
       "    <tr>\n",
       "      <th>1</th>\n",
       "      <td>my stay at this hotel was one of the best i ha...</td>\n",
       "      <td>deceptive</td>\n",
       "    </tr>\n",
       "    <tr>\n",
       "      <th>2</th>\n",
       "      <td>we just got back from a trip to chicago for my...</td>\n",
       "      <td>deceptive</td>\n",
       "    </tr>\n",
       "    <tr>\n",
       "      <th>3</th>\n",
       "      <td>i have to say that the hard rock hotel in chic...</td>\n",
       "      <td>deceptive</td>\n",
       "    </tr>\n",
       "    <tr>\n",
       "      <th>4</th>\n",
       "      <td>my husband and i recently stayed at the hard r...</td>\n",
       "      <td>deceptive</td>\n",
       "    </tr>\n",
       "  </tbody>\n",
       "</table>\n",
       "</div>"
      ],
      "text/plain": [
       "                                        HotelReviews     Labels\n",
       "0  excellent staff and customer service, very cle...  deceptive\n",
       "1  my stay at this hotel was one of the best i ha...  deceptive\n",
       "2  we just got back from a trip to chicago for my...  deceptive\n",
       "3  i have to say that the hard rock hotel in chic...  deceptive\n",
       "4  my husband and i recently stayed at the hard r...  deceptive"
      ]
     },
     "execution_count": 13,
     "metadata": {},
     "output_type": "execute_result"
    }
   ],
   "source": [
    "result.head()"
   ]
  },
  {
   "cell_type": "code",
   "execution_count": 14,
   "id": "de44d94c",
   "metadata": {},
   "outputs": [
    {
     "name": "stdout",
     "output_type": "stream",
     "text": [
      "Requirement already satisfied: nltk in ./venv/lib/python3.9/site-packages (3.7)\n",
      "Requirement already satisfied: regex>=2021.8.3 in ./venv/lib/python3.9/site-packages (from nltk) (2022.8.17)\n",
      "Requirement already satisfied: joblib in ./venv/lib/python3.9/site-packages (from nltk) (1.1.0)\n",
      "Requirement already satisfied: tqdm in ./venv/lib/python3.9/site-packages (from nltk) (4.64.1)\n",
      "Requirement already satisfied: click in ./venv/lib/python3.9/site-packages (from nltk) (8.1.3)\n",
      "Note: you may need to restart the kernel to use updated packages.\n"
     ]
    }
   ],
   "source": [
    "# pip install --user -U nltk"
   ]
  },
  {
   "cell_type": "code",
   "execution_count": 15,
   "id": "8c682d98",
   "metadata": {},
   "outputs": [
    {
     "name": "stdout",
     "output_type": "stream",
     "text": [
      "showing info https://raw.githubusercontent.com/nltk/nltk_data/gh-pages/index.xml\n"
     ]
    },
    {
     "data": {
      "text/plain": [
       "True"
      ]
     },
     "execution_count": 15,
     "metadata": {},
     "output_type": "execute_result"
    }
   ],
   "source": [
    "import nltk\n",
    "nltk.download()"
   ]
  },
  {
   "cell_type": "code",
   "execution_count": 16,
   "id": "f16ba3a9",
   "metadata": {},
   "outputs": [
    {
     "name": "stderr",
     "output_type": "stream",
     "text": [
      "[nltk_data] Downloading package stopwords to\n",
      "[nltk_data]     /Users/prashanthreddy/nltk_data...\n",
      "[nltk_data]   Package stopwords is already up-to-date!\n"
     ]
    },
    {
     "data": {
      "text/plain": [
       "True"
      ]
     },
     "execution_count": 16,
     "metadata": {},
     "output_type": "execute_result"
    }
   ],
   "source": [
    "nltk.download('stopwords')"
   ]
  },
  {
   "cell_type": "code",
   "execution_count": 17,
   "id": "68ca0fba",
   "metadata": {},
   "outputs": [],
   "source": [
    "stop = stopwords.words('english')\n",
    "result['review_without_stopwords'] = result['HotelReviews'].apply(lambda x: ' '.join([word for word in x.split() if word not in (stop)]))"
   ]
  },
  {
   "cell_type": "code",
   "execution_count": 18,
   "id": "059dd9a7",
   "metadata": {},
   "outputs": [
    {
     "data": {
      "text/html": [
       "<div>\n",
       "<style scoped>\n",
       "    .dataframe tbody tr th:only-of-type {\n",
       "        vertical-align: middle;\n",
       "    }\n",
       "\n",
       "    .dataframe tbody tr th {\n",
       "        vertical-align: top;\n",
       "    }\n",
       "\n",
       "    .dataframe thead th {\n",
       "        text-align: right;\n",
       "    }\n",
       "</style>\n",
       "<table border=\"1\" class=\"dataframe\">\n",
       "  <thead>\n",
       "    <tr style=\"text-align: right;\">\n",
       "      <th></th>\n",
       "      <th>HotelReviews</th>\n",
       "      <th>Labels</th>\n",
       "      <th>review_without_stopwords</th>\n",
       "    </tr>\n",
       "  </thead>\n",
       "  <tbody>\n",
       "    <tr>\n",
       "      <th>0</th>\n",
       "      <td>excellent staff and customer service, very cle...</td>\n",
       "      <td>deceptive</td>\n",
       "      <td>excellent staff customer service, clean spotle...</td>\n",
       "    </tr>\n",
       "    <tr>\n",
       "      <th>1</th>\n",
       "      <td>my stay at this hotel was one of the best i ha...</td>\n",
       "      <td>deceptive</td>\n",
       "      <td>stay hotel one best ever had! location, servic...</td>\n",
       "    </tr>\n",
       "    <tr>\n",
       "      <th>2</th>\n",
       "      <td>we just got back from a trip to chicago for my...</td>\n",
       "      <td>deceptive</td>\n",
       "      <td>got back trip chicago 30th birthday could impr...</td>\n",
       "    </tr>\n",
       "    <tr>\n",
       "      <th>3</th>\n",
       "      <td>i have to say that the hard rock hotel in chic...</td>\n",
       "      <td>deceptive</td>\n",
       "      <td>say hard rock hotel chicago cool place stay. f...</td>\n",
       "    </tr>\n",
       "    <tr>\n",
       "      <th>4</th>\n",
       "      <td>my husband and i recently stayed at the hard r...</td>\n",
       "      <td>deceptive</td>\n",
       "      <td>husband recently stayed hard rock hotel chicag...</td>\n",
       "    </tr>\n",
       "  </tbody>\n",
       "</table>\n",
       "</div>"
      ],
      "text/plain": [
       "                                        HotelReviews     Labels  \\\n",
       "0  excellent staff and customer service, very cle...  deceptive   \n",
       "1  my stay at this hotel was one of the best i ha...  deceptive   \n",
       "2  we just got back from a trip to chicago for my...  deceptive   \n",
       "3  i have to say that the hard rock hotel in chic...  deceptive   \n",
       "4  my husband and i recently stayed at the hard r...  deceptive   \n",
       "\n",
       "                            review_without_stopwords  \n",
       "0  excellent staff customer service, clean spotle...  \n",
       "1  stay hotel one best ever had! location, servic...  \n",
       "2  got back trip chicago 30th birthday could impr...  \n",
       "3  say hard rock hotel chicago cool place stay. f...  \n",
       "4  husband recently stayed hard rock hotel chicag...  "
      ]
     },
     "execution_count": 18,
     "metadata": {},
     "output_type": "execute_result"
    }
   ],
   "source": [
    "result.head()"
   ]
  },
  {
   "cell_type": "code",
   "execution_count": 19,
   "id": "0e494607",
   "metadata": {},
   "outputs": [
    {
     "name": "stderr",
     "output_type": "stream",
     "text": [
      "[nltk_data] Downloading package punkt to\n",
      "[nltk_data]     /Users/prashanthreddy/nltk_data...\n",
      "[nltk_data]   Package punkt is already up-to-date!\n",
      "[nltk_data] Downloading package averaged_perceptron_tagger to\n",
      "[nltk_data]     /Users/prashanthreddy/nltk_data...\n",
      "[nltk_data]   Package averaged_perceptron_tagger is already up-to-\n",
      "[nltk_data]       date!\n"
     ]
    },
    {
     "data": {
      "text/plain": [
       "True"
      ]
     },
     "execution_count": 19,
     "metadata": {},
     "output_type": "execute_result"
    }
   ],
   "source": [
    "import nltk\n",
    "nltk.download('punkt')\n",
    "nltk.download('averaged_perceptron_tagger')"
   ]
  },
  {
   "cell_type": "code",
   "execution_count": 20,
   "id": "d663c601",
   "metadata": {},
   "outputs": [],
   "source": [
    "def pos(review_without_stopwords):\n",
    "    return TextBlob(review_without_stopwords).tags"
   ]
  },
  {
   "cell_type": "code",
   "execution_count": 21,
   "id": "265c68bd",
   "metadata": {},
   "outputs": [
    {
     "ename": "KeyboardInterrupt",
     "evalue": "",
     "output_type": "error",
     "traceback": [
      "\u001b[0;31m---------------------------------------------------------------------------\u001b[0m",
      "\u001b[0;31mKeyboardInterrupt\u001b[0m                         Traceback (most recent call last)",
      "\u001b[1;32m/Users/prashanthreddy/Documents/Code/ML/Research/Exaggeration in fake vs. authentic online reviews for luxury and budget hotels .ipynb Cell 21\u001b[0m in \u001b[0;36m<cell line: 1>\u001b[0;34m()\u001b[0m\n\u001b[0;32m----> <a href='vscode-notebook-cell:/Users/prashanthreddy/Documents/Code/ML/Research/Exaggeration%20in%20fake%20vs.%20authentic%20online%20reviews%20for%20luxury%20and%20budget%20hotels%20.ipynb#X26sZmlsZQ%3D%3D?line=0'>1</a>\u001b[0m os \u001b[39m=\u001b[39m result\u001b[39m.\u001b[39;49mreview_without_stopwords\u001b[39m.\u001b[39;49mapply(pos)\n\u001b[1;32m      <a href='vscode-notebook-cell:/Users/prashanthreddy/Documents/Code/ML/Research/Exaggeration%20in%20fake%20vs.%20authentic%20online%20reviews%20for%20luxury%20and%20budget%20hotels%20.ipynb#X26sZmlsZQ%3D%3D?line=1'>2</a>\u001b[0m os1 \u001b[39m=\u001b[39m pd\u001b[39m.\u001b[39mDataFrame(os)\n",
      "File \u001b[0;32m~/Documents/Code/ML/Research/venv/lib/python3.9/site-packages/pandas/core/series.py:4433\u001b[0m, in \u001b[0;36mSeries.apply\u001b[0;34m(self, func, convert_dtype, args, **kwargs)\u001b[0m\n\u001b[1;32m   4323\u001b[0m \u001b[39mdef\u001b[39;00m \u001b[39mapply\u001b[39m(\n\u001b[1;32m   4324\u001b[0m     \u001b[39mself\u001b[39m,\n\u001b[1;32m   4325\u001b[0m     func: AggFuncType,\n\u001b[0;32m   (...)\u001b[0m\n\u001b[1;32m   4328\u001b[0m     \u001b[39m*\u001b[39m\u001b[39m*\u001b[39mkwargs,\n\u001b[1;32m   4329\u001b[0m ) \u001b[39m-\u001b[39m\u001b[39m>\u001b[39m DataFrame \u001b[39m|\u001b[39m Series:\n\u001b[1;32m   4330\u001b[0m     \u001b[39m\"\"\"\u001b[39;00m\n\u001b[1;32m   4331\u001b[0m \u001b[39m    Invoke function on values of Series.\u001b[39;00m\n\u001b[1;32m   4332\u001b[0m \n\u001b[0;32m   (...)\u001b[0m\n\u001b[1;32m   4431\u001b[0m \u001b[39m    dtype: float64\u001b[39;00m\n\u001b[1;32m   4432\u001b[0m \u001b[39m    \"\"\"\u001b[39;00m\n\u001b[0;32m-> 4433\u001b[0m     \u001b[39mreturn\u001b[39;00m SeriesApply(\u001b[39mself\u001b[39;49m, func, convert_dtype, args, kwargs)\u001b[39m.\u001b[39;49mapply()\n",
      "File \u001b[0;32m~/Documents/Code/ML/Research/venv/lib/python3.9/site-packages/pandas/core/apply.py:1088\u001b[0m, in \u001b[0;36mSeriesApply.apply\u001b[0;34m(self)\u001b[0m\n\u001b[1;32m   1084\u001b[0m \u001b[39mif\u001b[39;00m \u001b[39misinstance\u001b[39m(\u001b[39mself\u001b[39m\u001b[39m.\u001b[39mf, \u001b[39mstr\u001b[39m):\n\u001b[1;32m   1085\u001b[0m     \u001b[39m# if we are a string, try to dispatch\u001b[39;00m\n\u001b[1;32m   1086\u001b[0m     \u001b[39mreturn\u001b[39;00m \u001b[39mself\u001b[39m\u001b[39m.\u001b[39mapply_str()\n\u001b[0;32m-> 1088\u001b[0m \u001b[39mreturn\u001b[39;00m \u001b[39mself\u001b[39;49m\u001b[39m.\u001b[39;49mapply_standard()\n",
      "File \u001b[0;32m~/Documents/Code/ML/Research/venv/lib/python3.9/site-packages/pandas/core/apply.py:1143\u001b[0m, in \u001b[0;36mSeriesApply.apply_standard\u001b[0;34m(self)\u001b[0m\n\u001b[1;32m   1137\u001b[0m         values \u001b[39m=\u001b[39m obj\u001b[39m.\u001b[39mastype(\u001b[39mobject\u001b[39m)\u001b[39m.\u001b[39m_values\n\u001b[1;32m   1138\u001b[0m         \u001b[39m# error: Argument 2 to \"map_infer\" has incompatible type\u001b[39;00m\n\u001b[1;32m   1139\u001b[0m         \u001b[39m# \"Union[Callable[..., Any], str, List[Union[Callable[..., Any], str]],\u001b[39;00m\n\u001b[1;32m   1140\u001b[0m         \u001b[39m# Dict[Hashable, Union[Union[Callable[..., Any], str],\u001b[39;00m\n\u001b[1;32m   1141\u001b[0m         \u001b[39m# List[Union[Callable[..., Any], str]]]]]\"; expected\u001b[39;00m\n\u001b[1;32m   1142\u001b[0m         \u001b[39m# \"Callable[[Any], Any]\"\u001b[39;00m\n\u001b[0;32m-> 1143\u001b[0m         mapped \u001b[39m=\u001b[39m lib\u001b[39m.\u001b[39;49mmap_infer(\n\u001b[1;32m   1144\u001b[0m             values,\n\u001b[1;32m   1145\u001b[0m             f,  \u001b[39m# type: ignore[arg-type]\u001b[39;49;00m\n\u001b[1;32m   1146\u001b[0m             convert\u001b[39m=\u001b[39;49m\u001b[39mself\u001b[39;49m\u001b[39m.\u001b[39;49mconvert_dtype,\n\u001b[1;32m   1147\u001b[0m         )\n\u001b[1;32m   1149\u001b[0m \u001b[39mif\u001b[39;00m \u001b[39mlen\u001b[39m(mapped) \u001b[39mand\u001b[39;00m \u001b[39misinstance\u001b[39m(mapped[\u001b[39m0\u001b[39m], ABCSeries):\n\u001b[1;32m   1150\u001b[0m     \u001b[39m# GH#43986 Need to do list(mapped) in order to get treated as nested\u001b[39;00m\n\u001b[1;32m   1151\u001b[0m     \u001b[39m#  See also GH#25959 regarding EA support\u001b[39;00m\n\u001b[1;32m   1152\u001b[0m     \u001b[39mreturn\u001b[39;00m obj\u001b[39m.\u001b[39m_constructor_expanddim(\u001b[39mlist\u001b[39m(mapped), index\u001b[39m=\u001b[39mobj\u001b[39m.\u001b[39mindex)\n",
      "File \u001b[0;32m~/Documents/Code/ML/Research/venv/lib/python3.9/site-packages/pandas/_libs/lib.pyx:2870\u001b[0m, in \u001b[0;36mpandas._libs.lib.map_infer\u001b[0;34m()\u001b[0m\n",
      "\u001b[1;32m/Users/prashanthreddy/Documents/Code/ML/Research/Exaggeration in fake vs. authentic online reviews for luxury and budget hotels .ipynb Cell 21\u001b[0m in \u001b[0;36mpos\u001b[0;34m(review_without_stopwords)\u001b[0m\n\u001b[1;32m      <a href='vscode-notebook-cell:/Users/prashanthreddy/Documents/Code/ML/Research/Exaggeration%20in%20fake%20vs.%20authentic%20online%20reviews%20for%20luxury%20and%20budget%20hotels%20.ipynb#X26sZmlsZQ%3D%3D?line=0'>1</a>\u001b[0m \u001b[39mdef\u001b[39;00m \u001b[39mpos\u001b[39m(review_without_stopwords):\n\u001b[0;32m----> <a href='vscode-notebook-cell:/Users/prashanthreddy/Documents/Code/ML/Research/Exaggeration%20in%20fake%20vs.%20authentic%20online%20reviews%20for%20luxury%20and%20budget%20hotels%20.ipynb#X26sZmlsZQ%3D%3D?line=1'>2</a>\u001b[0m     \u001b[39mreturn\u001b[39;00m TextBlob(review_without_stopwords)\u001b[39m.\u001b[39;49mtags\n",
      "File \u001b[0;32m~/Documents/Code/ML/Research/venv/lib/python3.9/site-packages/textblob/decorators.py:24\u001b[0m, in \u001b[0;36mcached_property.__get__\u001b[0;34m(self, obj, cls)\u001b[0m\n\u001b[1;32m     22\u001b[0m \u001b[39mif\u001b[39;00m obj \u001b[39mis\u001b[39;00m \u001b[39mNone\u001b[39;00m:\n\u001b[1;32m     23\u001b[0m     \u001b[39mreturn\u001b[39;00m \u001b[39mself\u001b[39m\n\u001b[0;32m---> 24\u001b[0m value \u001b[39m=\u001b[39m obj\u001b[39m.\u001b[39m\u001b[39m__dict__\u001b[39m[\u001b[39mself\u001b[39m\u001b[39m.\u001b[39mfunc\u001b[39m.\u001b[39m\u001b[39m__name__\u001b[39m] \u001b[39m=\u001b[39m \u001b[39mself\u001b[39;49m\u001b[39m.\u001b[39;49mfunc(obj)\n\u001b[1;32m     25\u001b[0m \u001b[39mreturn\u001b[39;00m value\n",
      "File \u001b[0;32m~/Documents/Code/ML/Research/venv/lib/python3.9/site-packages/textblob/blob.py:499\u001b[0m, in \u001b[0;36mBaseBlob.pos_tags\u001b[0;34m(self)\u001b[0m\n\u001b[1;32m    488\u001b[0m \u001b[39m\"\"\"Returns an list of tuples of the form (word, POS tag).\u001b[39;00m\n\u001b[1;32m    489\u001b[0m \n\u001b[1;32m    490\u001b[0m \u001b[39mExample:\u001b[39;00m\n\u001b[0;32m   (...)\u001b[0m\n\u001b[1;32m    496\u001b[0m \u001b[39m:rtype: list of tuples\u001b[39;00m\n\u001b[1;32m    497\u001b[0m \u001b[39m\"\"\"\u001b[39;00m\n\u001b[1;32m    498\u001b[0m \u001b[39mif\u001b[39;00m \u001b[39misinstance\u001b[39m(\u001b[39mself\u001b[39m, TextBlob):\n\u001b[0;32m--> 499\u001b[0m     \u001b[39mreturn\u001b[39;00m [val \u001b[39mfor\u001b[39;00m sublist \u001b[39min\u001b[39;00m [s\u001b[39m.\u001b[39mpos_tags \u001b[39mfor\u001b[39;00m s \u001b[39min\u001b[39;00m \u001b[39mself\u001b[39m\u001b[39m.\u001b[39msentences] \u001b[39mfor\u001b[39;00m val \u001b[39min\u001b[39;00m sublist]\n\u001b[1;32m    500\u001b[0m \u001b[39melse\u001b[39;00m:\n\u001b[1;32m    501\u001b[0m     \u001b[39mreturn\u001b[39;00m [(Word(unicode(word), pos_tag\u001b[39m=\u001b[39mt), unicode(t))\n\u001b[1;32m    502\u001b[0m             \u001b[39mfor\u001b[39;00m word, t \u001b[39min\u001b[39;00m \u001b[39mself\u001b[39m\u001b[39m.\u001b[39mpos_tagger\u001b[39m.\u001b[39mtag(\u001b[39mself\u001b[39m)\n\u001b[1;32m    503\u001b[0m             \u001b[39mif\u001b[39;00m \u001b[39mnot\u001b[39;00m PUNCTUATION_REGEX\u001b[39m.\u001b[39mmatch(unicode(t))]\n",
      "File \u001b[0;32m~/Documents/Code/ML/Research/venv/lib/python3.9/site-packages/textblob/blob.py:499\u001b[0m, in \u001b[0;36m<listcomp>\u001b[0;34m(.0)\u001b[0m\n\u001b[1;32m    488\u001b[0m \u001b[39m\"\"\"Returns an list of tuples of the form (word, POS tag).\u001b[39;00m\n\u001b[1;32m    489\u001b[0m \n\u001b[1;32m    490\u001b[0m \u001b[39mExample:\u001b[39;00m\n\u001b[0;32m   (...)\u001b[0m\n\u001b[1;32m    496\u001b[0m \u001b[39m:rtype: list of tuples\u001b[39;00m\n\u001b[1;32m    497\u001b[0m \u001b[39m\"\"\"\u001b[39;00m\n\u001b[1;32m    498\u001b[0m \u001b[39mif\u001b[39;00m \u001b[39misinstance\u001b[39m(\u001b[39mself\u001b[39m, TextBlob):\n\u001b[0;32m--> 499\u001b[0m     \u001b[39mreturn\u001b[39;00m [val \u001b[39mfor\u001b[39;00m sublist \u001b[39min\u001b[39;00m [s\u001b[39m.\u001b[39;49mpos_tags \u001b[39mfor\u001b[39;00m s \u001b[39min\u001b[39;00m \u001b[39mself\u001b[39m\u001b[39m.\u001b[39msentences] \u001b[39mfor\u001b[39;00m val \u001b[39min\u001b[39;00m sublist]\n\u001b[1;32m    500\u001b[0m \u001b[39melse\u001b[39;00m:\n\u001b[1;32m    501\u001b[0m     \u001b[39mreturn\u001b[39;00m [(Word(unicode(word), pos_tag\u001b[39m=\u001b[39mt), unicode(t))\n\u001b[1;32m    502\u001b[0m             \u001b[39mfor\u001b[39;00m word, t \u001b[39min\u001b[39;00m \u001b[39mself\u001b[39m\u001b[39m.\u001b[39mpos_tagger\u001b[39m.\u001b[39mtag(\u001b[39mself\u001b[39m)\n\u001b[1;32m    503\u001b[0m             \u001b[39mif\u001b[39;00m \u001b[39mnot\u001b[39;00m PUNCTUATION_REGEX\u001b[39m.\u001b[39mmatch(unicode(t))]\n",
      "File \u001b[0;32m~/Documents/Code/ML/Research/venv/lib/python3.9/site-packages/textblob/decorators.py:24\u001b[0m, in \u001b[0;36mcached_property.__get__\u001b[0;34m(self, obj, cls)\u001b[0m\n\u001b[1;32m     22\u001b[0m \u001b[39mif\u001b[39;00m obj \u001b[39mis\u001b[39;00m \u001b[39mNone\u001b[39;00m:\n\u001b[1;32m     23\u001b[0m     \u001b[39mreturn\u001b[39;00m \u001b[39mself\u001b[39m\n\u001b[0;32m---> 24\u001b[0m value \u001b[39m=\u001b[39m obj\u001b[39m.\u001b[39m\u001b[39m__dict__\u001b[39m[\u001b[39mself\u001b[39m\u001b[39m.\u001b[39mfunc\u001b[39m.\u001b[39m\u001b[39m__name__\u001b[39m] \u001b[39m=\u001b[39m \u001b[39mself\u001b[39;49m\u001b[39m.\u001b[39;49mfunc(obj)\n\u001b[1;32m     25\u001b[0m \u001b[39mreturn\u001b[39;00m value\n",
      "File \u001b[0;32m~/Documents/Code/ML/Research/venv/lib/python3.9/site-packages/textblob/blob.py:502\u001b[0m, in \u001b[0;36mBaseBlob.pos_tags\u001b[0;34m(self)\u001b[0m\n\u001b[1;32m    499\u001b[0m     \u001b[39mreturn\u001b[39;00m [val \u001b[39mfor\u001b[39;00m sublist \u001b[39min\u001b[39;00m [s\u001b[39m.\u001b[39mpos_tags \u001b[39mfor\u001b[39;00m s \u001b[39min\u001b[39;00m \u001b[39mself\u001b[39m\u001b[39m.\u001b[39msentences] \u001b[39mfor\u001b[39;00m val \u001b[39min\u001b[39;00m sublist]\n\u001b[1;32m    500\u001b[0m \u001b[39melse\u001b[39;00m:\n\u001b[1;32m    501\u001b[0m     \u001b[39mreturn\u001b[39;00m [(Word(unicode(word), pos_tag\u001b[39m=\u001b[39mt), unicode(t))\n\u001b[0;32m--> 502\u001b[0m             \u001b[39mfor\u001b[39;00m word, t \u001b[39min\u001b[39;00m \u001b[39mself\u001b[39;49m\u001b[39m.\u001b[39;49mpos_tagger\u001b[39m.\u001b[39;49mtag(\u001b[39mself\u001b[39;49m)\n\u001b[1;32m    503\u001b[0m             \u001b[39mif\u001b[39;00m \u001b[39mnot\u001b[39;00m PUNCTUATION_REGEX\u001b[39m.\u001b[39mmatch(unicode(t))]\n",
      "File \u001b[0;32m~/Documents/Code/ML/Research/venv/lib/python3.9/site-packages/textblob/decorators.py:35\u001b[0m, in \u001b[0;36mrequires_nltk_corpus.<locals>.decorated\u001b[0;34m(*args, **kwargs)\u001b[0m\n\u001b[1;32m     32\u001b[0m \u001b[39m@wraps\u001b[39m(func)\n\u001b[1;32m     33\u001b[0m \u001b[39mdef\u001b[39;00m \u001b[39mdecorated\u001b[39m(\u001b[39m*\u001b[39margs, \u001b[39m*\u001b[39m\u001b[39m*\u001b[39mkwargs):\n\u001b[1;32m     34\u001b[0m     \u001b[39mtry\u001b[39;00m:\n\u001b[0;32m---> 35\u001b[0m         \u001b[39mreturn\u001b[39;00m func(\u001b[39m*\u001b[39;49margs, \u001b[39m*\u001b[39;49m\u001b[39m*\u001b[39;49mkwargs)\n\u001b[1;32m     36\u001b[0m     \u001b[39mexcept\u001b[39;00m \u001b[39mLookupError\u001b[39;00m \u001b[39mas\u001b[39;00m err:\n\u001b[1;32m     37\u001b[0m         \u001b[39mprint\u001b[39m(err)\n",
      "File \u001b[0;32m~/Documents/Code/ML/Research/venv/lib/python3.9/site-packages/textblob/en/taggers.py:38\u001b[0m, in \u001b[0;36mNLTKTagger.tag\u001b[0;34m(self, text)\u001b[0m\n\u001b[1;32m     35\u001b[0m \u001b[39mif\u001b[39;00m \u001b[39misinstance\u001b[39m(text, textblob\u001b[39m.\u001b[39mcompat\u001b[39m.\u001b[39mtext_type):\n\u001b[1;32m     36\u001b[0m     text \u001b[39m=\u001b[39m tb\u001b[39m.\u001b[39mTextBlob(text)\n\u001b[0;32m---> 38\u001b[0m \u001b[39mreturn\u001b[39;00m nltk\u001b[39m.\u001b[39;49mtag\u001b[39m.\u001b[39;49mpos_tag(text\u001b[39m.\u001b[39;49mtokens)\n",
      "File \u001b[0;32m~/Documents/Code/ML/Research/venv/lib/python3.9/site-packages/nltk/tag/__init__.py:166\u001b[0m, in \u001b[0;36mpos_tag\u001b[0;34m(tokens, tagset, lang)\u001b[0m\n\u001b[1;32m    141\u001b[0m \u001b[39m\"\"\"\u001b[39;00m\n\u001b[1;32m    142\u001b[0m \u001b[39mUse NLTK's currently recommended part of speech tagger to\u001b[39;00m\n\u001b[1;32m    143\u001b[0m \u001b[39mtag the given list of tokens.\u001b[39;00m\n\u001b[0;32m   (...)\u001b[0m\n\u001b[1;32m    163\u001b[0m \u001b[39m:rtype: list(tuple(str, str))\u001b[39;00m\n\u001b[1;32m    164\u001b[0m \u001b[39m\"\"\"\u001b[39;00m\n\u001b[1;32m    165\u001b[0m tagger \u001b[39m=\u001b[39m _get_tagger(lang)\n\u001b[0;32m--> 166\u001b[0m \u001b[39mreturn\u001b[39;00m _pos_tag(tokens, tagset, tagger, lang)\n",
      "File \u001b[0;32m~/Documents/Code/ML/Research/venv/lib/python3.9/site-packages/nltk/tag/__init__.py:123\u001b[0m, in \u001b[0;36m_pos_tag\u001b[0;34m(tokens, tagset, tagger, lang)\u001b[0m\n\u001b[1;32m    120\u001b[0m     \u001b[39mraise\u001b[39;00m \u001b[39mTypeError\u001b[39;00m(\u001b[39m\"\u001b[39m\u001b[39mtokens: expected a list of strings, got a string\u001b[39m\u001b[39m\"\u001b[39m)\n\u001b[1;32m    122\u001b[0m \u001b[39melse\u001b[39;00m:\n\u001b[0;32m--> 123\u001b[0m     tagged_tokens \u001b[39m=\u001b[39m tagger\u001b[39m.\u001b[39;49mtag(tokens)\n\u001b[1;32m    124\u001b[0m     \u001b[39mif\u001b[39;00m tagset:  \u001b[39m# Maps to the specified tagset.\u001b[39;00m\n\u001b[1;32m    125\u001b[0m         \u001b[39mif\u001b[39;00m lang \u001b[39m==\u001b[39m \u001b[39m\"\u001b[39m\u001b[39meng\u001b[39m\u001b[39m\"\u001b[39m:\n",
      "File \u001b[0;32m~/Documents/Code/ML/Research/venv/lib/python3.9/site-packages/nltk/tag/perceptron.py:187\u001b[0m, in \u001b[0;36mPerceptronTagger.tag\u001b[0;34m(self, tokens, return_conf, use_tagdict)\u001b[0m\n\u001b[1;32m    185\u001b[0m \u001b[39mif\u001b[39;00m \u001b[39mnot\u001b[39;00m tag:\n\u001b[1;32m    186\u001b[0m     features \u001b[39m=\u001b[39m \u001b[39mself\u001b[39m\u001b[39m.\u001b[39m_get_features(i, word, context, prev, prev2)\n\u001b[0;32m--> 187\u001b[0m     tag, conf \u001b[39m=\u001b[39m \u001b[39mself\u001b[39;49m\u001b[39m.\u001b[39;49mmodel\u001b[39m.\u001b[39;49mpredict(features, return_conf)\n\u001b[1;32m    188\u001b[0m output\u001b[39m.\u001b[39mappend((word, tag, conf) \u001b[39mif\u001b[39;00m return_conf \u001b[39m==\u001b[39m \u001b[39mTrue\u001b[39;00m \u001b[39melse\u001b[39;00m (word, tag))\n\u001b[1;32m    190\u001b[0m prev2 \u001b[39m=\u001b[39m prev\n",
      "File \u001b[0;32m~/Documents/Code/ML/Research/venv/lib/python3.9/site-packages/nltk/tag/perceptron.py:66\u001b[0m, in \u001b[0;36mAveragedPerceptron.predict\u001b[0;34m(self, features, return_conf)\u001b[0m\n\u001b[1;32m     64\u001b[0m     weights \u001b[39m=\u001b[39m \u001b[39mself\u001b[39m\u001b[39m.\u001b[39mweights[feat]\n\u001b[1;32m     65\u001b[0m     \u001b[39mfor\u001b[39;00m label, weight \u001b[39min\u001b[39;00m weights\u001b[39m.\u001b[39mitems():\n\u001b[0;32m---> 66\u001b[0m         scores[label] \u001b[39m+\u001b[39m\u001b[39m=\u001b[39m value \u001b[39m*\u001b[39m weight\n\u001b[1;32m     68\u001b[0m \u001b[39m# Do a secondary alphabetic sort, for stability\u001b[39;00m\n\u001b[1;32m     69\u001b[0m best_label \u001b[39m=\u001b[39m \u001b[39mmax\u001b[39m(\u001b[39mself\u001b[39m\u001b[39m.\u001b[39mclasses, key\u001b[39m=\u001b[39m\u001b[39mlambda\u001b[39;00m label: (scores[label], label))\n",
      "\u001b[0;31mKeyboardInterrupt\u001b[0m: "
     ]
    }
   ],
   "source": [
    "os = result.review_without_stopwords.apply(pos)\n",
    "os1 = pd.DataFrame(os)"
   ]
  },
  {
   "cell_type": "code",
   "execution_count": null,
   "id": "72fdb345",
   "metadata": {},
   "outputs": [
    {
     "data": {
      "text/html": [
       "<div>\n",
       "<style scoped>\n",
       "    .dataframe tbody tr th:only-of-type {\n",
       "        vertical-align: middle;\n",
       "    }\n",
       "\n",
       "    .dataframe tbody tr th {\n",
       "        vertical-align: top;\n",
       "    }\n",
       "\n",
       "    .dataframe thead th {\n",
       "        text-align: right;\n",
       "    }\n",
       "</style>\n",
       "<table border=\"1\" class=\"dataframe\">\n",
       "  <thead>\n",
       "    <tr style=\"text-align: right;\">\n",
       "      <th></th>\n",
       "      <th>review_without_stopwords</th>\n",
       "    </tr>\n",
       "  </thead>\n",
       "  <tbody>\n",
       "    <tr>\n",
       "      <th>0</th>\n",
       "      <td>[(excellent, JJ), (staff, NN), (customer, NN),...</td>\n",
       "    </tr>\n",
       "    <tr>\n",
       "      <th>1</th>\n",
       "      <td>[(stay, JJ), (hotel, NN), (one, CD), (best, JJ...</td>\n",
       "    </tr>\n",
       "    <tr>\n",
       "      <th>2</th>\n",
       "      <td>[(got, VBD), (back, RB), (trip, NN), (chicago,...</td>\n",
       "    </tr>\n",
       "    <tr>\n",
       "      <th>3</th>\n",
       "      <td>[(say, VB), (hard, JJ), (rock, NN), (hotel, NN...</td>\n",
       "    </tr>\n",
       "    <tr>\n",
       "      <th>4</th>\n",
       "      <td>[(husband, NN), (recently, RB), (stayed, VBD),...</td>\n",
       "    </tr>\n",
       "  </tbody>\n",
       "</table>\n",
       "</div>"
      ],
      "text/plain": [
       "                            review_without_stopwords\n",
       "0  [(excellent, JJ), (staff, NN), (customer, NN),...\n",
       "1  [(stay, JJ), (hotel, NN), (one, CD), (best, JJ...\n",
       "2  [(got, VBD), (back, RB), (trip, NN), (chicago,...\n",
       "3  [(say, VB), (hard, JJ), (rock, NN), (hotel, NN...\n",
       "4  [(husband, NN), (recently, RB), (stayed, VBD),..."
      ]
     },
     "execution_count": 22,
     "metadata": {},
     "output_type": "execute_result"
    }
   ],
   "source": [
    "os1.head()"
   ]
  },
  {
   "cell_type": "code",
   "execution_count": null,
   "id": "f2f560ac",
   "metadata": {},
   "outputs": [],
   "source": [
    "os1['pos'] = os1['review_without_stopwords'].map(lambda x:\" \".join([\"/\".join(x) for x in x ]) )"
   ]
  },
  {
   "cell_type": "code",
   "execution_count": null,
   "id": "9e21965e",
   "metadata": {},
   "outputs": [
    {
     "data": {
      "text/html": [
       "<div>\n",
       "<style scoped>\n",
       "    .dataframe tbody tr th:only-of-type {\n",
       "        vertical-align: middle;\n",
       "    }\n",
       "\n",
       "    .dataframe tbody tr th {\n",
       "        vertical-align: top;\n",
       "    }\n",
       "\n",
       "    .dataframe thead th {\n",
       "        text-align: right;\n",
       "    }\n",
       "</style>\n",
       "<table border=\"1\" class=\"dataframe\">\n",
       "  <thead>\n",
       "    <tr style=\"text-align: right;\">\n",
       "      <th></th>\n",
       "      <th>HotelReviews</th>\n",
       "      <th>Labels</th>\n",
       "      <th>review_without_stopwords_x</th>\n",
       "      <th>review_without_stopwords_y</th>\n",
       "      <th>pos</th>\n",
       "    </tr>\n",
       "  </thead>\n",
       "  <tbody>\n",
       "    <tr>\n",
       "      <th>0</th>\n",
       "      <td>excellent staff and customer service, very cle...</td>\n",
       "      <td>deceptive</td>\n",
       "      <td>excellent staff customer service, clean spotle...</td>\n",
       "      <td>[(excellent, JJ), (staff, NN), (customer, NN),...</td>\n",
       "      <td>excellent/JJ staff/NN customer/NN service/NN c...</td>\n",
       "    </tr>\n",
       "    <tr>\n",
       "      <th>1</th>\n",
       "      <td>my stay at this hotel was one of the best i ha...</td>\n",
       "      <td>deceptive</td>\n",
       "      <td>stay hotel one best ever had! location, servic...</td>\n",
       "      <td>[(stay, JJ), (hotel, NN), (one, CD), (best, JJ...</td>\n",
       "      <td>stay/JJ hotel/NN one/CD best/JJS ever/RB had/V...</td>\n",
       "    </tr>\n",
       "    <tr>\n",
       "      <th>2</th>\n",
       "      <td>we just got back from a trip to chicago for my...</td>\n",
       "      <td>deceptive</td>\n",
       "      <td>got back trip chicago 30th birthday could impr...</td>\n",
       "      <td>[(got, VBD), (back, RB), (trip, NN), (chicago,...</td>\n",
       "      <td>got/VBD back/RB trip/NN chicago/NN 30th/CD bir...</td>\n",
       "    </tr>\n",
       "    <tr>\n",
       "      <th>3</th>\n",
       "      <td>i have to say that the hard rock hotel in chic...</td>\n",
       "      <td>deceptive</td>\n",
       "      <td>say hard rock hotel chicago cool place stay. f...</td>\n",
       "      <td>[(say, VB), (hard, JJ), (rock, NN), (hotel, NN...</td>\n",
       "      <td>say/VB hard/JJ rock/NN hotel/NN chicago/NN coo...</td>\n",
       "    </tr>\n",
       "    <tr>\n",
       "      <th>4</th>\n",
       "      <td>my husband and i recently stayed at the hard r...</td>\n",
       "      <td>deceptive</td>\n",
       "      <td>husband recently stayed hard rock hotel chicag...</td>\n",
       "      <td>[(husband, NN), (recently, RB), (stayed, VBD),...</td>\n",
       "      <td>husband/NN recently/RB stayed/VBD hard/JJ rock...</td>\n",
       "    </tr>\n",
       "  </tbody>\n",
       "</table>\n",
       "</div>"
      ],
      "text/plain": [
       "                                        HotelReviews     Labels  \\\n",
       "0  excellent staff and customer service, very cle...  deceptive   \n",
       "1  my stay at this hotel was one of the best i ha...  deceptive   \n",
       "2  we just got back from a trip to chicago for my...  deceptive   \n",
       "3  i have to say that the hard rock hotel in chic...  deceptive   \n",
       "4  my husband and i recently stayed at the hard r...  deceptive   \n",
       "\n",
       "                          review_without_stopwords_x  \\\n",
       "0  excellent staff customer service, clean spotle...   \n",
       "1  stay hotel one best ever had! location, servic...   \n",
       "2  got back trip chicago 30th birthday could impr...   \n",
       "3  say hard rock hotel chicago cool place stay. f...   \n",
       "4  husband recently stayed hard rock hotel chicag...   \n",
       "\n",
       "                          review_without_stopwords_y  \\\n",
       "0  [(excellent, JJ), (staff, NN), (customer, NN),...   \n",
       "1  [(stay, JJ), (hotel, NN), (one, CD), (best, JJ...   \n",
       "2  [(got, VBD), (back, RB), (trip, NN), (chicago,...   \n",
       "3  [(say, VB), (hard, JJ), (rock, NN), (hotel, NN...   \n",
       "4  [(husband, NN), (recently, RB), (stayed, VBD),...   \n",
       "\n",
       "                                                 pos  \n",
       "0  excellent/JJ staff/NN customer/NN service/NN c...  \n",
       "1  stay/JJ hotel/NN one/CD best/JJS ever/RB had/V...  \n",
       "2  got/VBD back/RB trip/NN chicago/NN 30th/CD bir...  \n",
       "3  say/VB hard/JJ rock/NN hotel/NN chicago/NN coo...  \n",
       "4  husband/NN recently/RB stayed/VBD hard/JJ rock...  "
      ]
     },
     "execution_count": 24,
     "metadata": {},
     "output_type": "execute_result"
    }
   ],
   "source": [
    "result = result = pd.merge(result, os1,right_index=True,left_index = True)\n",
    "result.head()"
   ]
  },
  {
   "cell_type": "code",
   "execution_count": null,
   "id": "df9225af",
   "metadata": {},
   "outputs": [],
   "source": [
    "review_train, review_test, label_train, label_test = train_test_split(result['pos'],result['Labels'], test_size=0.2,random_state=13)"
   ]
  },
  {
   "cell_type": "code",
   "execution_count": null,
   "id": "434e84bd",
   "metadata": {},
   "outputs": [],
   "source": [
    "tf_vect = TfidfVectorizer(lowercase = True, use_idf=True, smooth_idf=True, sublinear_tf=False)\n",
    "\n",
    "X_train_tf = tf_vect.fit_transform(review_train)\n",
    "X_test_tf = tf_vect.transform(review_test)"
   ]
  },
  {
   "cell_type": "code",
   "execution_count": null,
   "id": "71efd4ff",
   "metadata": {},
   "outputs": [],
   "source": [
    "def svc_param_selection(X, y, nfolds):\n",
    "    Cs = [0.001, 0.01, 0.1, 1, 10]\n",
    "    gammas = [0.001, 0.01, 0.1, 1]\n",
    "    param_grid = {'C': Cs, 'gamma' : gammas}\n",
    "    grid_search = GridSearchCV(svm.SVC(kernel='linear'), param_grid, cv=nfolds)\n",
    "    grid_search.fit(X, y)\n",
    "    return grid_search.best_params_"
   ]
  },
  {
   "cell_type": "code",
   "execution_count": null,
   "id": "6f7dc604",
   "metadata": {},
   "outputs": [
    {
     "data": {
      "text/plain": [
       "{'C': 1, 'gamma': 0.001}"
      ]
     },
     "execution_count": 28,
     "metadata": {},
     "output_type": "execute_result"
    }
   ],
   "source": [
    "svc_param_selection(X_train_tf,label_train,5)"
   ]
  },
  {
   "cell_type": "code",
   "execution_count": null,
   "id": "abe15ba2",
   "metadata": {},
   "outputs": [
    {
     "data": {
      "text/plain": [
       "{'C': 10, 'gamma': 0.001}"
      ]
     },
     "execution_count": 29,
     "metadata": {},
     "output_type": "execute_result"
    }
   ],
   "source": [
    "{'C': 10, 'gamma': 0.001}"
   ]
  },
  {
   "cell_type": "code",
   "execution_count": null,
   "id": "e8355a29",
   "metadata": {},
   "outputs": [],
   "source": [
    "clf = svm.SVC(C=10,gamma=0.001,kernel='linear')\n",
    "clf.fit(X_train_tf,label_train)\n",
    "pred = clf.predict(X_test_tf)"
   ]
  },
  {
   "cell_type": "code",
   "execution_count": null,
   "id": "08ca80be",
   "metadata": {},
   "outputs": [],
   "source": [
    "with open('vectorizer.pickle', 'wb') as fin:\n",
    "    pickle.dump(tf_vect, fin)"
   ]
  },
  {
   "cell_type": "code",
   "execution_count": null,
   "id": "86bd5ceb",
   "metadata": {},
   "outputs": [],
   "source": [
    "with open('mlmodel.pickle','wb') as f:\n",
    "    pickle.dump(clf,f)"
   ]
  },
  {
   "cell_type": "code",
   "execution_count": null,
   "id": "b04d03ea",
   "metadata": {},
   "outputs": [],
   "source": [
    "pkl = open('mlmodel.pickle', 'rb')\n",
    "clf = pickle.load(pkl)   \n",
    "vec = open('vectorizer.pickle', 'rb')\n",
    "tf_vect = pickle.load(vec)"
   ]
  },
  {
   "cell_type": "code",
   "execution_count": null,
   "id": "ae7f2f22",
   "metadata": {},
   "outputs": [],
   "source": [
    "X_test_tf = tf_vect.transform(review_test)\n",
    "pred = clf.predict(X_test_tf)"
   ]
  },
  {
   "cell_type": "code",
   "execution_count": null,
   "id": "81798d2d",
   "metadata": {},
   "outputs": [
    {
     "name": "stdout",
     "output_type": "stream",
     "text": [
      "0.86875\n"
     ]
    }
   ],
   "source": [
    "print(metrics.accuracy_score(label_test, pred))"
   ]
  },
  {
   "cell_type": "code",
   "execution_count": null,
   "id": "59eb77b3",
   "metadata": {},
   "outputs": [
    {
     "name": "stdout",
     "output_type": "stream",
     "text": [
      "[[140  15]\n",
      " [ 27 138]]\n"
     ]
    }
   ],
   "source": [
    "print (confusion_matrix(label_test, pred))"
   ]
  },
  {
   "cell_type": "code",
   "execution_count": null,
   "id": "20782c74",
   "metadata": {},
   "outputs": [
    {
     "name": "stdout",
     "output_type": "stream",
     "text": [
      "              precision    recall  f1-score   support\n",
      "\n",
      "   deceptive       0.84      0.90      0.87       155\n",
      "       truth       0.90      0.84      0.87       165\n",
      "\n",
      "    accuracy                           0.87       320\n",
      "   macro avg       0.87      0.87      0.87       320\n",
      "weighted avg       0.87      0.87      0.87       320\n",
      "\n"
     ]
    }
   ],
   "source": [
    "print (classification_report(label_test, pred))"
   ]
  },
  {
   "cell_type": "markdown",
   "id": "05ccc511",
   "metadata": {},
   "source": [
    "## Test the Model using different Random States"
   ]
  },
  {
   "cell_type": "markdown",
   "id": "f4d5a276",
   "metadata": {},
   "source": [
    "### Random State 1"
   ]
  },
  {
   "cell_type": "code",
   "execution_count": null,
   "id": "8cb39253",
   "metadata": {},
   "outputs": [],
   "source": [
    "review_train, review_test, label_train, label_test = train_test_split(result['pos'],result['Labels'], test_size=0.2,random_state=1)"
   ]
  },
  {
   "cell_type": "code",
   "execution_count": null,
   "id": "c6231293",
   "metadata": {},
   "outputs": [],
   "source": [
    "X_test_tf = tf_vect.transform(review_test)\n",
    "pred = clf.predict(X_test_tf)"
   ]
  },
  {
   "cell_type": "code",
   "execution_count": null,
   "id": "ff2ffb13",
   "metadata": {},
   "outputs": [
    {
     "name": "stdout",
     "output_type": "stream",
     "text": [
      "0.9625\n"
     ]
    }
   ],
   "source": [
    "print(metrics.accuracy_score(label_test, pred))"
   ]
  },
  {
   "cell_type": "code",
   "execution_count": null,
   "id": "fdde689e",
   "metadata": {},
   "outputs": [
    {
     "name": "stdout",
     "output_type": "stream",
     "text": [
      "[[146   5]\n",
      " [  7 162]]\n"
     ]
    }
   ],
   "source": [
    "print (confusion_matrix(label_test, pred))"
   ]
  },
  {
   "cell_type": "code",
   "execution_count": null,
   "id": "1e6d11d9",
   "metadata": {},
   "outputs": [
    {
     "name": "stdout",
     "output_type": "stream",
     "text": [
      "              precision    recall  f1-score   support\n",
      "\n",
      "   deceptive       0.95      0.97      0.96       151\n",
      "       truth       0.97      0.96      0.96       169\n",
      "\n",
      "    accuracy                           0.96       320\n",
      "   macro avg       0.96      0.96      0.96       320\n",
      "weighted avg       0.96      0.96      0.96       320\n",
      "\n"
     ]
    }
   ],
   "source": [
    "print (classification_report(label_test, pred))"
   ]
  },
  {
   "cell_type": "markdown",
   "id": "aeb55a0c",
   "metadata": {},
   "source": [
    "### Random State 10\n"
   ]
  },
  {
   "cell_type": "code",
   "execution_count": null,
   "id": "c6429ca1",
   "metadata": {},
   "outputs": [],
   "source": [
    "review_train, review_test, label_train, label_test = train_test_split(result['pos'],result['Labels'], test_size=0.2,random_state=10)"
   ]
  },
  {
   "cell_type": "code",
   "execution_count": null,
   "id": "26584456",
   "metadata": {},
   "outputs": [],
   "source": [
    "X_test_tf = tf_vect.transform(review_test)\n",
    "pred = clf.predict(X_test_tf)"
   ]
  },
  {
   "cell_type": "code",
   "execution_count": null,
   "id": "17bddb4e",
   "metadata": {},
   "outputs": [
    {
     "name": "stdout",
     "output_type": "stream",
     "text": [
      "0.978125\n"
     ]
    }
   ],
   "source": [
    "print(metrics.accuracy_score(label_test, pred))"
   ]
  },
  {
   "cell_type": "code",
   "execution_count": null,
   "id": "6ef1700a",
   "metadata": {},
   "outputs": [
    {
     "name": "stdout",
     "output_type": "stream",
     "text": [
      "[[156   4]\n",
      " [  3 157]]\n"
     ]
    }
   ],
   "source": [
    "print (confusion_matrix(label_test, pred))"
   ]
  },
  {
   "cell_type": "code",
   "execution_count": null,
   "id": "046c2b4c",
   "metadata": {},
   "outputs": [
    {
     "name": "stdout",
     "output_type": "stream",
     "text": [
      "              precision    recall  f1-score   support\n",
      "\n",
      "   deceptive       0.98      0.97      0.98       160\n",
      "       truth       0.98      0.98      0.98       160\n",
      "\n",
      "    accuracy                           0.98       320\n",
      "   macro avg       0.98      0.98      0.98       320\n",
      "weighted avg       0.98      0.98      0.98       320\n",
      "\n"
     ]
    }
   ],
   "source": [
    "print (classification_report(label_test, pred))"
   ]
  },
  {
   "cell_type": "code",
   "execution_count": null,
   "id": "7fd00cc1",
   "metadata": {},
   "outputs": [],
   "source": [
    "review_train, review_test, label_train, label_test = train_test_split(result['pos'],result['Labels'], test_size=0.2,random_state=42)"
   ]
  },
  {
   "cell_type": "code",
   "execution_count": null,
   "id": "84cf5959",
   "metadata": {},
   "outputs": [],
   "source": [
    "X_test_tf = tf_vect.transform(review_test)\n",
    "pred = clf.predict(X_test_tf)"
   ]
  },
  {
   "cell_type": "code",
   "execution_count": null,
   "id": "f7628315",
   "metadata": {},
   "outputs": [
    {
     "name": "stdout",
     "output_type": "stream",
     "text": [
      "0.971875\n"
     ]
    }
   ],
   "source": [
    "print(metrics.accuracy_score(label_test, pred))"
   ]
  },
  {
   "cell_type": "code",
   "execution_count": null,
   "id": "71b35cdc",
   "metadata": {},
   "outputs": [
    {
     "name": "stdout",
     "output_type": "stream",
     "text": [
      "[[164   4]\n",
      " [  5 147]]\n"
     ]
    }
   ],
   "source": [
    "print (confusion_matrix(label_test, pred))"
   ]
  },
  {
   "cell_type": "code",
   "execution_count": null,
   "id": "b4bd3803",
   "metadata": {},
   "outputs": [
    {
     "name": "stdout",
     "output_type": "stream",
     "text": [
      "              precision    recall  f1-score   support\n",
      "\n",
      "   deceptive       0.97      0.98      0.97       168\n",
      "       truth       0.97      0.97      0.97       152\n",
      "\n",
      "    accuracy                           0.97       320\n",
      "   macro avg       0.97      0.97      0.97       320\n",
      "weighted avg       0.97      0.97      0.97       320\n",
      "\n"
     ]
    }
   ],
   "source": [
    "print (classification_report(label_test, pred))"
   ]
  },
  {
   "cell_type": "markdown",
   "id": "88a22ee5",
   "metadata": {},
   "source": [
    "## Test the model with two reviews "
   ]
  },
  {
   "cell_type": "code",
   "execution_count": null,
   "id": "4e99b9d5",
   "metadata": {},
   "outputs": [],
   "source": [
    "def test_review(s):\n",
    "    X_test_tf = tf_vect.transform([s])\n",
    "    y_predict = clf.predict(X_test_tf)\n",
    "    return y_predict"
   ]
  },
  {
   "cell_type": "code",
   "execution_count": null,
   "id": "52ecb21b",
   "metadata": {},
   "outputs": [
    {
     "data": {
      "text/plain": [
       "array(['truth'], dtype=object)"
      ]
     },
     "execution_count": 54,
     "metadata": {},
     "output_type": "execute_result"
    }
   ],
   "source": [
    "test_review(\"The hotel was good.The room had a 27-inch Samsung led tv, a microwave.The room had a double bed\")"
   ]
  },
  {
   "cell_type": "code",
   "execution_count": null,
   "id": "13ffa980",
   "metadata": {},
   "outputs": [
    {
     "data": {
      "text/plain": [
       "array(['deceptive'], dtype=object)"
      ]
     },
     "execution_count": 55,
     "metadata": {},
     "output_type": "execute_result"
    }
   ],
   "source": [
    "test_review(\"the experince at the hard rock hotel in chicago was fantastic,i will rate them a 6 out of 5. they have wonderful service and great staff and the view is just wonderful.\")"
   ]
  },
  {
   "cell_type": "code",
   "execution_count": null,
   "id": "6cee457d",
   "metadata": {},
   "outputs": [],
   "source": []
  }
 ],
 "metadata": {
  "kernelspec": {
   "display_name": "Python 3.9.0 (conda)",
   "language": "python",
   "name": "python3"
  },
  "language_info": {
   "codemirror_mode": {
    "name": "ipython",
    "version": 3
   },
   "file_extension": ".py",
   "mimetype": "text/x-python",
   "name": "python",
   "nbconvert_exporter": "python",
   "pygments_lexer": "ipython3",
   "version": "3.9.13"
  },
  "vscode": {
   "interpreter": {
    "hash": "7aa77970e5c8410b2293761d0ff6b20f89f177214b5480bcade6beec4a122db0"
   }
  }
 },
 "nbformat": 4,
 "nbformat_minor": 5
}
